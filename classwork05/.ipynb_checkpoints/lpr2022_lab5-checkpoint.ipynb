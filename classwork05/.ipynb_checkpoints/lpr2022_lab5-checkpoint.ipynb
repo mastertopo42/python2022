{
 "cells": [
  {
   "cell_type": "markdown",
   "id": "7b1e7b16",
   "metadata": {},
   "source": [
    "# Продолжение numpy, matplotlib\n",
    "\n",
    "В прошлый раз мы научились работать с массивами в numpy. В этот раз мы узнаем о дополнительном функционале в библиотеке numpy и попрактикуемся чуть больше в визуализации."
   ]
  },
  {
   "cell_type": "markdown",
   "id": "ed796b6a",
   "metadata": {},
   "source": [
    "## Объекты\n",
    "В стандартный набор для работы с массивами входят следующие функции:\n",
    "- `np.arange` -- возвращает массив точек на равноудаленных с определенным шагом (по умолчанию шаг=1)\n",
    "- `numpy.linspace` -- возвращает массив определенно количества точек между заданными границами\n",
    "- `numpy.logspace` -- возвращает массив определенно количества точек между заданными границами в логарифмическом масштабе\n",
    "- `np.eye` -- создает двумерный массив в виде единичной матрицы\n",
    "- `np.ones` -- создает массив определенного размера заполненный 1\n",
    "- `np.zeros` -- создает массив определенного размера заполненный 0"
   ]
  },
  {
   "cell_type": "code",
   "execution_count": null,
   "id": "bf31032a",
   "metadata": {},
   "outputs": [],
   "source": [
    "import numpy as np\n",
    "\n",
    "print(\"arange(3)\", np.arange(3))\n",
    "print(\"arange(-3, 3)\", np.arange(-3, 3))\n",
    "print(\"arange(3, 10.1, 1)\", np.arange(3, 10.1, 1))\n",
    "print(\"linspace(3, 10, 8)\", np.linspace(3, 10, 8))\n",
    "print(\"logspace(-4, 0, 5)\", np.logspace(-4, 0, 5))\n",
    "print(\"eye(5)\\n\", np.eye(5))\n",
    "print(\"ones(10)\", np.ones(10))\n",
    "print(\"zeros(10)\", np.zeros(10))"
   ]
  },
  {
   "cell_type": "markdown",
   "id": "3cb4f550",
   "metadata": {},
   "source": [
    "## Методы объектов\n",
    "\n",
    "Для каждого массива определены следующие методы (операции, которые можно совершать с массивом из **коробки**):\n",
    "- `sum` -- просуммировать элементы\n",
    "- `mean` -- усреднить элементы\n",
    "- `std` -- посчитать среднеквадратичное отклонение\n",
    "- `min` -- найти значение минимального элемента\n",
    "- `max` -- найти значение максимального элемента\n",
    "- `argmin` -- найти индекс минимального элемента\n",
    "- `argmax` -- найти значение максимального элемента\n",
    "- `tolist` -- превратить массив в список\n",
    "- `tobytes` -- превратить массив в байт-строку"
   ]
  },
  {
   "cell_type": "code",
   "execution_count": null,
   "id": "3841d71d",
   "metadata": {},
   "outputs": [],
   "source": [
    "import numpy as np\n",
    "\n",
    "array = np.linspace(0, 35, 36).reshape(6, 6)\n",
    "\n",
    "print(array, \"\\n\")\n",
    "print(array.sum(axis=1), \"\\n\")\n",
    "print(array.mean(axis=0), \"\\n\")\n",
    "print(array.std(axis=(0, 1)), \"\\n\")\n",
    "print(array.argmin(), \"\\n\")\n",
    "print(array.argmax(axis=1), \"\\n\")\n",
    "print(array.tolist(), \"\\n\")\n",
    "print(array.tobytes(), \"\\n\")"
   ]
  },
  {
   "cell_type": "markdown",
   "id": "9f1a7107",
   "metadata": {},
   "source": [
    "## Случайности\n",
    "\n",
    "В numpy реализован также пакет для работы со случайными величинами.\n",
    "\n",
    "В реальности, абсолютную случайность достичь невозможно. Никакой алгоритм не может повторить природную случайность. Поэтому при работе с алгоритмами, которые основаны на случайном выборе, говорят о псевдослучайности. Псевдослучайность -- математический алгоритм получения псевдослучайных величин.\n",
    "\n",
    "Псевдослучайны алгортмы могут давать длинную последовательность независимых событий. Повторяются они не очень быстро (можете попробовать проверить).\n",
    "\n",
    "Для псевдопоследовательности вводится понятие `seed`. Это параметр, который формально определяет начало нашей псевдопоследовательности. `seed` фиксируется для воспроизведения псевдо-эксперимента.\n",
    "\n",
    "Модуль, который отвечает за случайные величины находится по пути\n",
    "```python\n",
    "import numpy as np\n",
    "np.random\n",
    "```\n",
    "Рассмотрим основные функции:\n",
    "- `normal` -- нормальное распределение\n",
    "- `poisson` -- распределение Пуассона\n",
    "- `randint` -- равномерное распределение целых чисел\n",
    "- `rand` -- равномерное распределение на отрезке [0, 1]\n",
    "- `seed` -- устанавливает `seed` псевдослучайной последовательности"
   ]
  },
  {
   "cell_type": "code",
   "execution_count": null,
   "id": "c14c117e",
   "metadata": {},
   "outputs": [],
   "source": [
    "import numpy as np\n",
    "\n",
    "np.random.seed(42)\n",
    "print(np.random.normal(10, 100, size=10), \"\\n\")\n",
    "print(np.random.poisson(10, size=15), \"\\n\")\n",
    "print(np.random.randint(20, size=23), \"\\n\")\n",
    "print(np.random.rand(12), \"\\n\")"
   ]
  },
  {
   "cell_type": "markdown",
   "id": "eacb5954",
   "metadata": {},
   "source": [
    "### numpy Задание\n",
    "\n",
    "1. Выставьте `seed` случайной последовательности в 1\n",
    "2. Сгенерируйте массив из 120 случайных равномернораспределенных чисел с отрезка [0, 1]\n",
    "3. Посчитайте среднее, среднеквадратичное отклонение и сумму для элементов предыдущего массива\n",
    "4. Превратите одномерный массив в двумерный размерности (12, 10)\n",
    "5. Посчитайте среднее, среднеквадратичное отклонение и сумму для элементов предыдущего массива вдоль направлений 0, 1 (для каждой величины должно быть по два вычисления)\n",
    "6. Найдите минимальные и максимальные значения в каждом столбце двумерного массива\n",
    "8. Найдите индексы минимальных и максимальных элементов в каждой строке двумерного массива"
   ]
  },
  {
   "cell_type": "markdown",
   "id": "d869c55f",
   "metadata": {},
   "source": [
    "## Еще больше рисования\n",
    "\n",
    "В прошлый раз был разобран метод рисовки ломаной кривой и точек с *усами*. В этот раз предстоит узнать о гистограммах и просто точечных изображениях.\n",
    "\n",
    "Гистограммы применимы в случае экспериентов с большим количеством повторений. Например, количество частиц на счетчике Гейгера за определенный промежуток времени.\n",
    "\n",
    "Посмотрим на следующий пример, который генирирует по распределению Пуассона 10000 событий, а затем отображает их."
   ]
  },
  {
   "cell_type": "code",
   "execution_count": null,
   "id": "dbd452d1",
   "metadata": {},
   "outputs": [],
   "source": [
    "import numpy as np\n",
    "from matplotlib import pyplot as plt\n",
    "\n",
    "np.random.seed(42)\n",
    "data = np.random.poisson(5, size=(10000,))\n",
    "\n",
    "fig, axs = plt.subplots(1, 3, figsize=(15, 4.6))\n",
    "\n",
    "axs[0].hist(data, label=\"coarse hist\")\n",
    "axs[1].hist(data, \"auto\", label=\"fine hist\")\n",
    "axs[2].hist(data, np.array([0, 4, 5, 6, 8.5, 9, 9.5, 10, 10.5, 15]), label=\"sad hist\")\n",
    "\n",
    "titles = [\"Strange data\", \"Interesting data\", \"Weird master\"]\n",
    "for ax, title in zip(axs, titles):\n",
    "    ax.set_title(title)\n",
    "    ax.set_ylabel(\"Events\")\n",
    "    ax.set_xlabel(\"value\")\n",
    "    ax.legend()\n",
    "\n",
    "plt.tight_layout()"
   ]
  },
  {
   "cell_type": "markdown",
   "id": "56f260a4",
   "metadata": {},
   "source": [
    "`pyplot.subplots` -- создает фигуру с несколькими окнами для отрисовки данных\n",
    "\n",
    "Как видно, одни те же данные могут быть совсем по разному отображены, если использовать разное разбиение (или же разный биннинг) для оси икс. Разбиение может быть задано вариативно (третий график).\n",
    "\n",
    "Отоброзим наши данные на плоскости. Первую половину точек возьмем в качестве первой координаты, вторую половину -- в качестве второй координаты"
   ]
  },
  {
   "cell_type": "code",
   "execution_count": null,
   "id": "790db514",
   "metadata": {},
   "outputs": [],
   "source": [
    "import numpy as np\n",
    "from matplotlib import pyplot as plt\n",
    "\n",
    "np.random.seed(42)\n",
    "data = np.random.poisson(5, size=(10000,))\n",
    "x = data[:5000]\n",
    "y = data[5000:]\n",
    "\n",
    "plt.scatter(x, y, s=10)\n",
    "\n",
    "plt.tight_layout()"
   ]
  },
  {
   "cell_type": "markdown",
   "id": "3e43237e",
   "metadata": {},
   "source": [
    "В плоском виде это не информативно. Нельзя понять сколько точек попало в одну ячейку. Воспользуемся методом из numpy для разделения на разные корзины (бины)"
   ]
  },
  {
   "cell_type": "code",
   "execution_count": null,
   "id": "ecd6d410",
   "metadata": {},
   "outputs": [],
   "source": [
    "xedges = np.linspace(-0.5, 18.5, 19)\n",
    "yedges = np.linspace(-0.5, 18.5, 19)\n",
    "distribution, xedges, yedges = np.histogram2d(x, y, bins=(xedges, yedges))\n",
    "\n",
    "cs = plt.matshow(distribution)\n",
    "plt.colorbar(cs)"
   ]
  },
  {
   "cell_type": "markdown",
   "id": "55e916d5",
   "metadata": {},
   "source": [
    "## Data Analysis again\n",
    "\n",
    "\n",
    "Функция `fake_data_generator` выдает данные какого-то эксперимента. Но это не беда, ведь мы всегда можем обработать данные!\n",
    "\n",
    "Узнайте свой порядковый номер в группе и с помощью функции `get_numbers` получите свои входные значения для функции `fake_data_generator`.\n",
    "\n",
    "Полученные  экспериентальные данные используйте для нанесения на график. Затем попрбуйте *прикинуть* параметры прямой, которая могла бы проходить через экспериентальные точки.\n",
    "\n",
    "Пример генерации данных:\n",
    "```python\n",
    "student = 0  # Teacher's number\n",
    "x, y = fake_data_generator(*get_numbers(student))\n",
    "```\n",
    "\n",
    "В этот раз мы попробуем обработать данные с помощью numpy. Требуется воспользоваться функцией `numpy.polynomial`. На вход она принимает три аргумента: x/y координаты точек для подгонки и `deg=1` количество степеней свободы кривой. При значении `deg=1` кривая будет прямой.\n",
    "\n",
    "Попробуйте сгенерировать данные в соотвествии с порядковым номером в списке группы. После подгоните данные с использованием функции `numpy.polynomial`. Проверьте дополнительно методом МНК какие коэффициенты должны поучится для наклона и смещения прямой"
   ]
  },
  {
   "cell_type": "code",
   "execution_count": null,
   "id": "2aae1615",
   "metadata": {},
   "outputs": [],
   "source": [
    "import numpy as np\n",
    "import matplotlib\n",
    "from matplotlib import pyplot as plt\n",
    "\n",
    "matplotlib.rcParams.update(matplotlib.rcParamsDefault)\n",
    "\n",
    "\n",
    "def get_numbers(student):\n",
    "    return student, (student + 4) % 5 + 3, student % 2 * 10 + 12, (student % 5 * 3 + 7) * 3 \n",
    "\n",
    "def fake_data_generator(seed, vmin=0, vmax=10, size=100):\n",
    "    import numpy as np\n",
    "    np.random.seed(seed)\n",
    "    data = np.random.randint(vmin, vmax, size=20)\n",
    "    mean = data.mean()\n",
    "    std = data.std()\n",
    "    noise = np.random.normal(loc=mean, scale=std**.5, size=size)\n",
    "    fake_x = np.array([-5 + i * 20 / size for i in range(size)])\n",
    "    \n",
    "    linear = lambda x, k=(.5 - np.random.rand()) * 15, b=np.random.rand()*10: k * x + b\n",
    "    linear_data = linear(fake_x)\n",
    "    fake_y = linear_data + noise\n",
    "    return fake_x, fake_y"
   ]
  },
  {
   "cell_type": "code",
   "execution_count": null,
   "id": "224f4315",
   "metadata": {},
   "outputs": [],
   "source": [
    "\n",
    "np.polynomial"
   ]
  },
  {
   "cell_type": "code",
   "execution_count": null,
   "id": "4d96eb06",
   "metadata": {},
   "outputs": [],
   "source": []
  }
 ],
 "metadata": {
  "kernelspec": {
   "display_name": "Python 3 (ipykernel)",
   "language": "python",
   "name": "python3"
  },
  "language_info": {
   "codemirror_mode": {
    "name": "ipython",
    "version": 3
   },
   "file_extension": ".py",
   "mimetype": "text/x-python",
   "name": "python",
   "nbconvert_exporter": "python",
   "pygments_lexer": "ipython3",
   "version": "3.9.13"
  }
 },
 "nbformat": 4,
 "nbformat_minor": 5
}
